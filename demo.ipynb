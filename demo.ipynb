{
 "cells": [
  {
   "cell_type": "code",
   "execution_count": 1,
   "id": "57f649cf-2b52-4006-9169-22ab97e085e4",
   "metadata": {},
   "outputs": [
    {
     "data": {
      "text/plain": [
       "{'model_loaded': True, 'status': 'ok'}"
      ]
     },
     "execution_count": 1,
     "metadata": {},
     "output_type": "execute_result"
    }
   ],
   "source": [
    "import requests\n",
    "\n",
    "# Health check endpoint\n",
    "resp = requests.get(\"http://127.0.0.1:8000/health\")\n",
    "resp.json()"
   ]
  },
  {
   "cell_type": "code",
   "execution_count": 2,
   "id": "b8d76eb3-e45b-42d7-8045-0dceec0eca9f",
   "metadata": {},
   "outputs": [
    {
     "data": {
      "text/plain": [
       "{'confidence': 0.5625206173699882, 'prediction': 'Bug'}"
      ]
     },
     "execution_count": 2,
     "metadata": {},
     "output_type": "execute_result"
    }
   ],
   "source": [
    "sample = {\n",
    "    \"title\": \"App crashes on submit\",\n",
    "    \"description\": \"When I click submit without entering details, the app crashes.\"\n",
    "}\n",
    "\n",
    "resp = requests.post(\"http://127.0.0.1:8000/predict\", json=sample)\n",
    "resp.json()\n"
   ]
  },
  {
   "cell_type": "code",
   "execution_count": 3,
   "id": "a809a9a7-f0c6-4bc2-bb4a-fa2507dd840f",
   "metadata": {},
   "outputs": [
    {
     "data": {
      "text/plain": [
       "{'results': [{'confidence': 0.5520359259535519,\n",
       "   'index': 0,\n",
       "   'prediction': 'Bug'},\n",
       "  {'confidence': 0.5115247580740422, 'index': 1, 'prediction': 'Non-Bug'}]}"
      ]
     },
     "execution_count": 3,
     "metadata": {},
     "output_type": "execute_result"
    }
   ],
   "source": [
    "batch = {\n",
    "    \"items\": [\n",
    "        {\"title\": \"Null pointer exception\", \"description\": \"Occurs when clicking save.\"},\n",
    "        {\"title\": \"Feature request\", \"description\": \"Add dark mode to settings.\"}\n",
    "    ]\n",
    "}\n",
    "\n",
    "resp = requests.post(\"http://127.0.0.1:8000/predict:batch\", json=batch)\n",
    "resp.json()\n"
   ]
  },
  {
   "cell_type": "code",
   "execution_count": null,
   "id": "271a21bb-31b0-46dd-adba-106483a8ba38",
   "metadata": {},
   "outputs": [],
   "source": []
  }
 ],
 "metadata": {
  "kernelspec": {
   "display_name": "Python 3 (ipykernel)",
   "language": "python",
   "name": "python3"
  },
  "language_info": {
   "codemirror_mode": {
    "name": "ipython",
    "version": 3
   },
   "file_extension": ".py",
   "mimetype": "text/x-python",
   "name": "python",
   "nbconvert_exporter": "python",
   "pygments_lexer": "ipython3",
   "version": "3.13.2"
  }
 },
 "nbformat": 4,
 "nbformat_minor": 5
}
